{
 "cells": [
  {
   "cell_type": "code",
   "execution_count": null,
   "metadata": {
    "_cell_guid": "b1076dfc-b9ad-4769-8c92-a6c4dae69d19",
    "_uuid": "8f2839f25d086af736a60e9eeb907d3b93b6e0e5",
    "execution": {
     "iopub.execute_input": "2024-11-30T17:37:13.186475Z",
     "iopub.status.busy": "2024-11-30T17:37:13.186128Z",
     "iopub.status.idle": "2024-11-30T17:37:13.202790Z",
     "shell.execute_reply": "2024-11-30T17:37:13.201882Z",
     "shell.execute_reply.started": "2024-11-30T17:37:13.186446Z"
    },
    "trusted": true
   },
   "outputs": [
    {
     "name": "stdout",
     "output_type": "stream",
     "text": [
      "     PassengerId  Survived  Pclass  \\\n",
      "0            892         0       3   \n",
      "1            893         1       3   \n",
      "2            894         0       2   \n",
      "3            895         0       3   \n",
      "4            896         1       3   \n",
      "..           ...       ...     ...   \n",
      "413         1305         0       3   \n",
      "414         1306         1       1   \n",
      "415         1307         0       3   \n",
      "416         1308         0       3   \n",
      "417         1309         0       3   \n",
      "\n",
      "                                             Name     Sex   Age  SibSp  Parch  \\\n",
      "0                                Kelly, Mr. James    male  34.5      0      0   \n",
      "1                Wilkes, Mrs. James (Ellen Needs)  female  47.0      1      0   \n",
      "2                       Myles, Mr. Thomas Francis    male  62.0      0      0   \n",
      "3                                Wirz, Mr. Albert    male  27.0      0      0   \n",
      "4    Hirvonen, Mrs. Alexander (Helga E Lindqvist)  female  22.0      1      1   \n",
      "..                                            ...     ...   ...    ...    ...   \n",
      "413                            Spector, Mr. Woolf    male   NaN      0      0   \n",
      "414                  Oliva y Ocana, Dona. Fermina  female  39.0      0      0   \n",
      "415                  Saether, Mr. Simon Sivertsen    male  38.5      0      0   \n",
      "416                           Ware, Mr. Frederick    male   NaN      0      0   \n",
      "417                      Peter, Master. Michael J    male   NaN      1      1   \n",
      "\n",
      "                 Ticket      Fare Cabin Embarked  \n",
      "0                330911    7.8292   NaN        Q  \n",
      "1                363272    7.0000   NaN        S  \n",
      "2                240276    9.6875   NaN        Q  \n",
      "3                315154    8.6625   NaN        S  \n",
      "4               3101298   12.2875   NaN        S  \n",
      "..                  ...       ...   ...      ...  \n",
      "413           A.5. 3236    8.0500   NaN        S  \n",
      "414            PC 17758  108.9000  C105        C  \n",
      "415  SOTON/O.Q. 3101262    7.2500   NaN        S  \n",
      "416              359309    8.0500   NaN        S  \n",
      "417                2668   22.3583   NaN        C  \n",
      "\n",
      "[418 rows x 12 columns]\n"
     ]
    }
   ],
   "source": [
    "import numpy as np\n",
    "import pandas as pd\n",
    "df=pd.read_csv(\"/kaggle/input/test-file/titanic.csv\")\n",
    "\n",
    "pd.set_option('display.max_columns',None)\n",
    "print(df)"
   ]
  },
  {
   "cell_type": "code",
   "execution_count": 50,
   "metadata": {
    "execution": {
     "iopub.execute_input": "2024-11-30T17:58:03.378035Z",
     "iopub.status.busy": "2024-11-30T17:58:03.377713Z",
     "iopub.status.idle": "2024-11-30T17:58:03.382159Z",
     "shell.execute_reply": "2024-11-30T17:58:03.381236Z",
     "shell.execute_reply.started": "2024-11-30T17:58:03.378007Z"
    },
    "trusted": true
   },
   "outputs": [],
   "source": [
    "import warnings\n",
    "warnings.filterwarnings('ignore')"
   ]
  },
  {
   "cell_type": "code",
   "execution_count": 3,
   "metadata": {
    "execution": {
     "iopub.execute_input": "2024-11-30T17:37:13.204217Z",
     "iopub.status.busy": "2024-11-30T17:37:13.203980Z",
     "iopub.status.idle": "2024-11-30T17:37:13.223111Z",
     "shell.execute_reply": "2024-11-30T17:37:13.222368Z",
     "shell.execute_reply.started": "2024-11-30T17:37:13.204195Z"
    },
    "trusted": true
   },
   "outputs": [
    {
     "name": "stdout",
     "output_type": "stream",
     "text": [
      "<class 'pandas.core.frame.DataFrame'>\n",
      "RangeIndex: 418 entries, 0 to 417\n",
      "Data columns (total 12 columns):\n",
      " #   Column       Non-Null Count  Dtype  \n",
      "---  ------       --------------  -----  \n",
      " 0   PassengerId  418 non-null    int64  \n",
      " 1   Survived     418 non-null    int64  \n",
      " 2   Pclass       418 non-null    int64  \n",
      " 3   Name         418 non-null    object \n",
      " 4   Sex          418 non-null    object \n",
      " 5   Age          332 non-null    float64\n",
      " 6   SibSp        418 non-null    int64  \n",
      " 7   Parch        418 non-null    int64  \n",
      " 8   Ticket       418 non-null    object \n",
      " 9   Fare         417 non-null    float64\n",
      " 10  Cabin        91 non-null     object \n",
      " 11  Embarked     418 non-null    object \n",
      "dtypes: float64(2), int64(5), object(5)\n",
      "memory usage: 39.3+ KB\n",
      "None\n"
     ]
    }
   ],
   "source": [
    "print(df.info())"
   ]
  },
  {
   "cell_type": "code",
   "execution_count": 4,
   "metadata": {
    "execution": {
     "iopub.execute_input": "2024-11-30T17:37:13.224449Z",
     "iopub.status.busy": "2024-11-30T17:37:13.224116Z",
     "iopub.status.idle": "2024-11-30T17:37:13.232740Z",
     "shell.execute_reply": "2024-11-30T17:37:13.231872Z",
     "shell.execute_reply.started": "2024-11-30T17:37:13.224414Z"
    },
    "trusted": true
   },
   "outputs": [
    {
     "name": "stdout",
     "output_type": "stream",
     "text": [
      "   PassengerId  Survived  Pclass  \\\n",
      "0          892         0       3   \n",
      "1          893         1       3   \n",
      "2          894         0       2   \n",
      "3          895         0       3   \n",
      "4          896         1       3   \n",
      "5          897         0       3   \n",
      "6          898         1       3   \n",
      "7          899         0       2   \n",
      "8          900         1       3   \n",
      "9          901         0       3   \n",
      "\n",
      "                                           Name     Sex   Age  SibSp  Parch  \\\n",
      "0                              Kelly, Mr. James    male  34.5      0      0   \n",
      "1              Wilkes, Mrs. James (Ellen Needs)  female  47.0      1      0   \n",
      "2                     Myles, Mr. Thomas Francis    male  62.0      0      0   \n",
      "3                              Wirz, Mr. Albert    male  27.0      0      0   \n",
      "4  Hirvonen, Mrs. Alexander (Helga E Lindqvist)  female  22.0      1      1   \n",
      "5                    Svensson, Mr. Johan Cervin    male  14.0      0      0   \n",
      "6                          Connolly, Miss. Kate  female  30.0      0      0   \n",
      "7                  Caldwell, Mr. Albert Francis    male  26.0      1      1   \n",
      "8     Abrahim, Mrs. Joseph (Sophie Halaut Easu)  female  18.0      0      0   \n",
      "9                       Davies, Mr. John Samuel    male  21.0      2      0   \n",
      "\n",
      "      Ticket     Fare Cabin Embarked  \n",
      "0     330911   7.8292   NaN        Q  \n",
      "1     363272   7.0000   NaN        S  \n",
      "2     240276   9.6875   NaN        Q  \n",
      "3     315154   8.6625   NaN        S  \n",
      "4    3101298  12.2875   NaN        S  \n",
      "5       7538   9.2250   NaN        S  \n",
      "6     330972   7.6292   NaN        Q  \n",
      "7     248738  29.0000   NaN        S  \n",
      "8       2657   7.2292   NaN        C  \n",
      "9  A/4 48871  24.1500   NaN        S  \n"
     ]
    }
   ],
   "source": [
    "print(df.head(10))"
   ]
  },
  {
   "cell_type": "code",
   "execution_count": 5,
   "metadata": {
    "execution": {
     "iopub.execute_input": "2024-11-30T17:37:13.235675Z",
     "iopub.status.busy": "2024-11-30T17:37:13.235286Z",
     "iopub.status.idle": "2024-11-30T17:37:13.248474Z",
     "shell.execute_reply": "2024-11-30T17:37:13.247716Z",
     "shell.execute_reply.started": "2024-11-30T17:37:13.235635Z"
    },
    "trusted": true
   },
   "outputs": [
    {
     "name": "stdout",
     "output_type": "stream",
     "text": [
      "     PassengerId  Survived  Pclass  \\\n",
      "408         1300         1       3   \n",
      "409         1301         1       3   \n",
      "410         1302         1       3   \n",
      "411         1303         1       1   \n",
      "412         1304         1       3   \n",
      "413         1305         0       3   \n",
      "414         1306         1       1   \n",
      "415         1307         0       3   \n",
      "416         1308         0       3   \n",
      "417         1309         0       3   \n",
      "\n",
      "                                                Name     Sex   Age  SibSp  \\\n",
      "408                  Riordan, Miss. Johanna Hannah\"\"  female   NaN      0   \n",
      "409                        Peacock, Miss. Treasteall  female   3.0      1   \n",
      "410                           Naughton, Miss. Hannah  female   NaN      0   \n",
      "411  Minahan, Mrs. William Edward (Lillian E Thorpe)  female  37.0      1   \n",
      "412                   Henriksson, Miss. Jenny Lovisa  female  28.0      0   \n",
      "413                               Spector, Mr. Woolf    male   NaN      0   \n",
      "414                     Oliva y Ocana, Dona. Fermina  female  39.0      0   \n",
      "415                     Saether, Mr. Simon Sivertsen    male  38.5      0   \n",
      "416                              Ware, Mr. Frederick    male   NaN      0   \n",
      "417                         Peter, Master. Michael J    male   NaN      1   \n",
      "\n",
      "     Parch              Ticket      Fare Cabin Embarked  \n",
      "408      0              334915    7.7208   NaN        Q  \n",
      "409      1  SOTON/O.Q. 3101315   13.7750   NaN        S  \n",
      "410      0              365237    7.7500   NaN        Q  \n",
      "411      0               19928   90.0000   C78        Q  \n",
      "412      0              347086    7.7750   NaN        S  \n",
      "413      0           A.5. 3236    8.0500   NaN        S  \n",
      "414      0            PC 17758  108.9000  C105        C  \n",
      "415      0  SOTON/O.Q. 3101262    7.2500   NaN        S  \n",
      "416      0              359309    8.0500   NaN        S  \n",
      "417      1                2668   22.3583   NaN        C  \n"
     ]
    }
   ],
   "source": [
    "print(df.tail(10))"
   ]
  },
  {
   "cell_type": "code",
   "execution_count": 6,
   "metadata": {
    "execution": {
     "iopub.execute_input": "2024-11-30T17:37:13.250228Z",
     "iopub.status.busy": "2024-11-30T17:37:13.249505Z",
     "iopub.status.idle": "2024-11-30T17:37:13.259781Z",
     "shell.execute_reply": "2024-11-30T17:37:13.258977Z",
     "shell.execute_reply.started": "2024-11-30T17:37:13.250193Z"
    },
    "trusted": true
   },
   "outputs": [
    {
     "name": "stdout",
     "output_type": "stream",
     "text": [
      "Index(['PassengerId', 'Survived', 'Pclass', 'Name', 'Sex', 'Age', 'SibSp',\n",
      "       'Parch', 'Ticket', 'Fare', 'Cabin', 'Embarked'],\n",
      "      dtype='object')\n"
     ]
    }
   ],
   "source": [
    "\n",
    "print(df.columns)"
   ]
  },
  {
   "cell_type": "code",
   "execution_count": 7,
   "metadata": {
    "execution": {
     "iopub.execute_input": "2024-11-30T17:37:13.261041Z",
     "iopub.status.busy": "2024-11-30T17:37:13.260824Z",
     "iopub.status.idle": "2024-11-30T17:37:13.272019Z",
     "shell.execute_reply": "2024-11-30T17:37:13.271109Z",
     "shell.execute_reply.started": "2024-11-30T17:37:13.261019Z"
    },
    "trusted": true
   },
   "outputs": [
    {
     "name": "stdout",
     "output_type": "stream",
     "text": [
      "\n",
      " (418, 12)\n",
      "\n",
      " 0\n",
      "\n",
      " PassengerId      0\n",
      "Survived         0\n",
      "Pclass           0\n",
      "Name             0\n",
      "Sex              0\n",
      "Age             86\n",
      "SibSp            0\n",
      "Parch            0\n",
      "Ticket           0\n",
      "Fare             1\n",
      "Cabin          327\n",
      "Embarked         0\n",
      "dtype: int64\n"
     ]
    }
   ],
   "source": [
    "print(\"\\n\",df.shape)\n",
    "print(\"\\n\",df.duplicated().sum())\n",
    "print(\"\\n\",df.isnull().sum())"
   ]
  },
  {
   "cell_type": "code",
   "execution_count": 8,
   "metadata": {
    "execution": {
     "iopub.execute_input": "2024-11-30T17:37:13.273511Z",
     "iopub.status.busy": "2024-11-30T17:37:13.273111Z",
     "iopub.status.idle": "2024-11-30T17:37:13.929213Z",
     "shell.execute_reply": "2024-11-30T17:37:13.928606Z",
     "shell.execute_reply.started": "2024-11-30T17:37:13.273476Z"
    },
    "trusted": true
   },
   "outputs": [],
   "source": [
    "import matplotlib.pyplot as plt\n",
    "import missingno as ms"
   ]
  },
  {
   "cell_type": "code",
   "execution_count": 9,
   "metadata": {
    "execution": {
     "iopub.execute_input": "2024-11-30T17:37:13.930371Z",
     "iopub.status.busy": "2024-11-30T17:37:13.930071Z",
     "iopub.status.idle": "2024-11-30T17:37:14.849698Z",
     "shell.execute_reply": "2024-11-30T17:37:14.848986Z",
     "shell.execute_reply.started": "2024-11-30T17:37:13.930347Z"
    },
    "trusted": true
   },
   "outputs": [
    {
     "data": {
      "image/png": "[encoded data removed]",
      "text/plain": [
       "<Figure size 1000x500 with 3 Axes>"
      ]
     },
     "metadata": {},
     "output_type": "display_data"
    }
   ],
   "source": [
    "ms.bar(df,figsize=(10,5),color=\"tomato\")\n",
    "plt.title(\"Bar plot showing missing data values\",size=15,c=\"b\")\n",
    "plt.show()"
   ]
  },
  {
   "cell_type": "code",
   "execution_count": 10,
   "metadata": {
    "execution": {
     "iopub.execute_input": "2024-11-30T17:37:14.850937Z",
     "iopub.status.busy": "2024-11-30T17:37:14.850638Z",
     "iopub.status.idle": "2024-11-30T17:37:14.858229Z",
     "shell.execute_reply": "2024-11-30T17:37:14.857372Z",
     "shell.execute_reply.started": "2024-11-30T17:37:14.850904Z"
    },
    "trusted": true
   },
   "outputs": [
    {
     "name": "stdout",
     "output_type": "stream",
     "text": [
      "(418, 11)\n"
     ]
    }
   ],
   "source": [
    "df.drop(['Cabin'],axis=1,inplace=True)\n",
    "print(df.shape)\n"
   ]
  },
  {
   "cell_type": "code",
   "execution_count": 11,
   "metadata": {
    "execution": {
     "iopub.execute_input": "2024-11-30T17:37:14.862356Z",
     "iopub.status.busy": "2024-11-30T17:37:14.861768Z",
     "iopub.status.idle": "2024-11-30T17:37:14.876023Z",
     "shell.execute_reply": "2024-11-30T17:37:14.875371Z",
     "shell.execute_reply.started": "2024-11-30T17:37:14.862306Z"
    },
    "trusted": true
   },
   "outputs": [
    {
     "name": "stdout",
     "output_type": "stream",
     "text": [
      "\n",
      " ['Q' 'S' 'C']\n",
      "\n",
      " Embarked\n",
      "S    270\n",
      "C    102\n",
      "Q     46\n",
      "Name: count, dtype: int64\n",
      "\n",
      " Embarked\n",
      "S    270\n",
      "C    102\n",
      "Q     46\n",
      "Name: count, dtype: int64\n"
     ]
    }
   ],
   "source": [
    "print(\"\\n\",df[\"Embarked\"].unique())\n",
    "print(\"\\n\",df[\"Embarked\"].value_counts())\n",
    "df[\"Embarked\"]=df[\"Embarked\"].fillna('Q')\n",
    "print(\"\\n\",df[\"Embarked\"].value_counts())"
   ]
  },
  {
   "cell_type": "code",
   "execution_count": 12,
   "metadata": {
    "execution": {
     "iopub.execute_input": "2024-11-30T17:37:14.877782Z",
     "iopub.status.busy": "2024-11-30T17:37:14.877417Z",
     "iopub.status.idle": "2024-11-30T17:37:14.905873Z",
     "shell.execute_reply": "2024-11-30T17:37:14.905135Z",
     "shell.execute_reply.started": "2024-11-30T17:37:14.877745Z"
    },
    "trusted": true
   },
   "outputs": [
    {
     "name": "stdout",
     "output_type": "stream",
     "text": [
      "\n",
      " Age\n",
      "24.0    17\n",
      "21.0    17\n",
      "22.0    16\n",
      "30.0    15\n",
      "18.0    13\n",
      "        ..\n",
      "44.0     1\n",
      "5.0      1\n",
      "51.0     1\n",
      "3.0      1\n",
      "38.5     1\n",
      "Name: count, Length: 79, dtype: int64\n",
      "\n",
      " 30.272590361445783\n",
      "\n",
      " 27.0\n",
      "\n",
      " Age\n",
      "21.0    1\n",
      "24.0    1\n",
      "Name: count, dtype: int64\n",
      "\n",
      "        PassengerId  Survived  Pclass  Age  SibSp  Parch  Fare\n",
      "count          418       418     418  332    418    418   417\n",
      "mean          1100         0       2   30      0      0    35\n",
      "std            120         0       0   14      0      0    55\n",
      "min            892         0       1    0      0      0     0\n",
      "25%            996         0       1   21      0      0     7\n",
      "50%           1100         0       3   27      0      0    14\n",
      "75%           1204         1       3   39      1      0    31\n",
      "max           1309         1       3   76      8      9   512\n"
     ]
    }
   ],
   "source": [
    "print(\"\\n\",df[\"Age\"].value_counts())\n",
    "print(\"\\n\",df[\"Age\"].mean())\n",
    "print(\"\\n\",df[\"Age\"].median())\n",
    "print(\"\\n\",df[\"Age\"].mode().value_counts())\n",
    "print(\"\\n\",df.describe().astype(int))"
   ]
  },
  {
   "cell_type": "code",
   "execution_count": 13,
   "metadata": {
    "execution": {
     "iopub.execute_input": "2024-11-30T17:37:14.907241Z",
     "iopub.status.busy": "2024-11-30T17:37:14.906935Z",
     "iopub.status.idle": "2024-11-30T17:37:14.912783Z",
     "shell.execute_reply": "2024-11-30T17:37:14.911851Z",
     "shell.execute_reply.started": "2024-11-30T17:37:14.907204Z"
    },
    "trusted": true
   },
   "outputs": [
    {
     "name": "stdout",
     "output_type": "stream",
     "text": [
      "0\n"
     ]
    }
   ],
   "source": [
    "df[\"Age\"]=df[\"Age\"].fillna(df[\"Age\"].mean())\n",
    "print(df[\"Age\"].isnull().sum())\n"
   ]
  },
  {
   "cell_type": "code",
   "execution_count": 14,
   "metadata": {
    "execution": {
     "iopub.execute_input": "2024-11-30T17:37:14.914647Z",
     "iopub.status.busy": "2024-11-30T17:37:14.914277Z",
     "iopub.status.idle": "2024-11-30T17:37:15.545851Z",
     "shell.execute_reply": "2024-11-30T17:37:15.545018Z",
     "shell.execute_reply.started": "2024-11-30T17:37:14.914611Z"
    },
    "trusted": true
   },
   "outputs": [
    {
     "data": {
      "image/png": "[encoded data removed]",
      "text/plain": [
       "<Figure size 1000x500 with 3 Axes>"
      ]
     },
     "metadata": {},
     "output_type": "display_data"
    }
   ],
   "source": [
    "ms.bar(df,figsize=(10,5),color=\"green\")\n",
    "plt.title(\"Bar plot showing missing data values\",size=15,c=\"b\")\n",
    "plt.show()"
   ]
  },
  {
   "cell_type": "code",
   "execution_count": 15,
   "metadata": {
    "execution": {
     "iopub.execute_input": "2024-11-30T17:37:15.547189Z",
     "iopub.status.busy": "2024-11-30T17:37:15.546851Z",
     "iopub.status.idle": "2024-11-30T17:37:15.551643Z",
     "shell.execute_reply": "2024-11-30T17:37:15.550716Z",
     "shell.execute_reply.started": "2024-11-30T17:37:15.547149Z"
    },
    "trusted": true
   },
   "outputs": [],
   "source": [
    "import seaborn as sns"
   ]
  },
  {
   "cell_type": "code",
   "execution_count": 16,
   "metadata": {
    "execution": {
     "iopub.execute_input": "2024-11-30T17:37:15.553679Z",
     "iopub.status.busy": "2024-11-30T17:37:15.552766Z",
     "iopub.status.idle": "2024-11-30T17:37:15.675934Z",
     "shell.execute_reply": "2024-11-30T17:37:15.675410Z",
     "shell.execute_reply.started": "2024-11-30T17:37:15.553642Z"
    },
    "trusted": true
   },
   "outputs": [
    {
     "data": {
      "image/png": "[encoded data removed]",
      "text/plain": [
       "<Figure size 640x480 with 1 Axes>"
      ]
     },
     "metadata": {},
     "output_type": "display_data"
    }
   ],
   "source": [
    "sns.countplot(x=\"Survived\",data=df)\n",
    "plt.title(\"Count of passengers who survived\")\n",
    "plt.show()"
   ]
  },
  {
   "cell_type": "code",
   "execution_count": 17,
   "metadata": {
    "execution": {
     "iopub.execute_input": "2024-11-30T17:37:15.677051Z",
     "iopub.status.busy": "2024-11-30T17:37:15.676751Z",
     "iopub.status.idle": "2024-11-30T17:37:15.682334Z",
     "shell.execute_reply": "2024-11-30T17:37:15.681697Z",
     "shell.execute_reply.started": "2024-11-30T17:37:15.677014Z"
    },
    "trusted": true
   },
   "outputs": [
    {
     "name": "stdout",
     "output_type": "stream",
     "text": [
      "Sex\n",
      "male      266\n",
      "female    152\n",
      "Name: count, dtype: int64\n"
     ]
    }
   ],
   "source": [
    "print(df[\"Sex\"].value_counts())"
   ]
  },
  {
   "cell_type": "code",
   "execution_count": 18,
   "metadata": {
    "execution": {
     "iopub.execute_input": "2024-11-30T17:37:15.683705Z",
     "iopub.status.busy": "2024-11-30T17:37:15.683358Z",
     "iopub.status.idle": "2024-11-30T17:37:15.851578Z",
     "shell.execute_reply": "2024-11-30T17:37:15.850797Z",
     "shell.execute_reply.started": "2024-11-30T17:37:15.683668Z"
    },
    "trusted": true
   },
   "outputs": [
    {
     "data": {
      "image/png": "[encoded data removed]",
      "text/plain": [
       "<Figure size 500x300 with 2 Axes>"
      ]
     },
     "metadata": {},
     "output_type": "display_data"
    }
   ],
   "source": [
    "fig,axes=plt.subplots(1,2,figsize=(5,3))\n",
    "df[\"Sex\"].value_counts().plot(kind=\"bar\",ax=axes[0],color=['DarkRed','indianred'])\n",
    "df[\"Sex\"].value_counts().plot(kind=\"pie\",ax=axes[1],autopct='%0.1f',colormap=\"Reds\")\n",
    "plt.show()"
   ]
  },
  {
   "cell_type": "code",
   "execution_count": 19,
   "metadata": {
    "execution": {
     "iopub.execute_input": "2024-11-30T17:37:15.852828Z",
     "iopub.status.busy": "2024-11-30T17:37:15.852503Z",
     "iopub.status.idle": "2024-11-30T17:37:16.063436Z",
     "shell.execute_reply": "2024-11-30T17:37:16.062612Z",
     "shell.execute_reply.started": "2024-11-30T17:37:15.852789Z"
    },
    "trusted": true
   },
   "outputs": [
    {
     "data": {
      "image/png": "[encoded data removed]",
      "text/plain": [
       "<Figure size 372.111x300 with 1 Axes>"
      ]
     },
     "metadata": {},
     "output_type": "display_data"
    }
   ],
   "source": [
    "sns.catplot(x=\"Sex\",hue=\"Survived\",kind=\"count\",data=df,height=3)\n",
    "plt.show()"
   ]
  },
  {
   "cell_type": "code",
   "execution_count": 20,
   "metadata": {
    "execution": {
     "iopub.execute_input": "2024-11-30T17:37:16.064487Z",
     "iopub.status.busy": "2024-11-30T17:37:16.064242Z",
     "iopub.status.idle": "2024-11-30T17:37:16.282911Z",
     "shell.execute_reply": "2024-11-30T17:37:16.282162Z",
     "shell.execute_reply.started": "2024-11-30T17:37:16.064464Z"
    },
    "trusted": true
   },
   "outputs": [
    {
     "data": {
      "image/png": "[encoded data removed]",
      "text/plain": [
       "<Figure size 640x480 with 1 Axes>"
      ]
     },
     "metadata": {},
     "output_type": "display_data"
    }
   ],
   "source": [
    "sns.countplot(x=\"Pclass\",hue=\"Survived\",data=df,palette=\"Reds\")\n",
    "plt.show()"
   ]
  },
  {
   "cell_type": "code",
   "execution_count": 21,
   "metadata": {
    "execution": {
     "iopub.execute_input": "2024-11-30T17:37:16.284099Z",
     "iopub.status.busy": "2024-11-30T17:37:16.283886Z",
     "iopub.status.idle": "2024-11-30T17:37:16.297304Z",
     "shell.execute_reply": "2024-11-30T17:37:16.296373Z",
     "shell.execute_reply.started": "2024-11-30T17:37:16.284077Z"
    },
    "trusted": true
   },
   "outputs": [
    {
     "data": {
      "text/html": [
       "<div>\n",
       "<style scoped>\n",
       "    .dataframe tbody tr th:only-of-type {\n",
       "        vertical-align: middle;\n",
       "    }\n",
       "\n",
       "    .dataframe tbody tr th {\n",
       "        vertical-align: top;\n",
       "    }\n",
       "\n",
       "    .dataframe thead th {\n",
       "        text-align: right;\n",
       "    }\n",
       "</style>\n",
       "<table border=\"1\" class=\"dataframe\">\n",
       "  <thead>\n",
       "    <tr style=\"text-align: right;\">\n",
       "      <th></th>\n",
       "      <th>Survived</th>\n",
       "      <th>Pclass</th>\n",
       "      <th>Sex</th>\n",
       "      <th>Age</th>\n",
       "      <th>SibSp</th>\n",
       "      <th>Parch</th>\n",
       "      <th>Fare</th>\n",
       "      <th>Embarked</th>\n",
       "    </tr>\n",
       "  </thead>\n",
       "  <tbody>\n",
       "    <tr>\n",
       "      <th>0</th>\n",
       "      <td>0</td>\n",
       "      <td>3</td>\n",
       "      <td>male</td>\n",
       "      <td>34.5</td>\n",
       "      <td>0</td>\n",
       "      <td>0</td>\n",
       "      <td>7.8292</td>\n",
       "      <td>Q</td>\n",
       "    </tr>\n",
       "    <tr>\n",
       "      <th>1</th>\n",
       "      <td>1</td>\n",
       "      <td>3</td>\n",
       "      <td>female</td>\n",
       "      <td>47.0</td>\n",
       "      <td>1</td>\n",
       "      <td>0</td>\n",
       "      <td>7.0000</td>\n",
       "      <td>S</td>\n",
       "    </tr>\n",
       "    <tr>\n",
       "      <th>2</th>\n",
       "      <td>0</td>\n",
       "      <td>2</td>\n",
       "      <td>male</td>\n",
       "      <td>62.0</td>\n",
       "      <td>0</td>\n",
       "      <td>0</td>\n",
       "      <td>9.6875</td>\n",
       "      <td>Q</td>\n",
       "    </tr>\n",
       "    <tr>\n",
       "      <th>3</th>\n",
       "      <td>0</td>\n",
       "      <td>3</td>\n",
       "      <td>male</td>\n",
       "      <td>27.0</td>\n",
       "      <td>0</td>\n",
       "      <td>0</td>\n",
       "      <td>8.6625</td>\n",
       "      <td>S</td>\n",
       "    </tr>\n",
       "    <tr>\n",
       "      <th>4</th>\n",
       "      <td>1</td>\n",
       "      <td>3</td>\n",
       "      <td>female</td>\n",
       "      <td>22.0</td>\n",
       "      <td>1</td>\n",
       "      <td>1</td>\n",
       "      <td>12.2875</td>\n",
       "      <td>S</td>\n",
       "    </tr>\n",
       "  </tbody>\n",
       "</table>\n",
       "</div>"
      ],
      "text/plain": [
       "   Survived  Pclass     Sex   Age  SibSp  Parch     Fare Embarked\n",
       "0         0       3    male  34.5      0      0   7.8292        Q\n",
       "1         1       3  female  47.0      1      0   7.0000        S\n",
       "2         0       2    male  62.0      0      0   9.6875        Q\n",
       "3         0       3    male  27.0      0      0   8.6625        S\n",
       "4         1       3  female  22.0      1      1  12.2875        S"
      ]
     },
     "execution_count": 21,
     "metadata": {},
     "output_type": "execute_result"
    }
   ],
   "source": [
    "df.drop([\"Name\",\"Ticket\",\"PassengerId\"],axis=1,inplace=True)\n",
    "df.head()"
   ]
  },
  {
   "cell_type": "code",
   "execution_count": 23,
   "metadata": {
    "execution": {
     "iopub.execute_input": "2024-11-30T17:39:22.869290Z",
     "iopub.status.busy": "2024-11-30T17:39:22.868957Z",
     "iopub.status.idle": "2024-11-30T17:39:22.873949Z",
     "shell.execute_reply": "2024-11-30T17:39:22.872827Z",
     "shell.execute_reply.started": "2024-11-30T17:39:22.869258Z"
    },
    "trusted": true
   },
   "outputs": [],
   "source": [
    "from sklearn.preprocessing import LabelEncoder\n",
    "le=LabelEncoder()"
   ]
  },
  {
   "cell_type": "code",
   "execution_count": 24,
   "metadata": {
    "execution": {
     "iopub.execute_input": "2024-11-30T17:40:54.066236Z",
     "iopub.status.busy": "2024-11-30T17:40:54.065916Z",
     "iopub.status.idle": "2024-11-30T17:40:54.076454Z",
     "shell.execute_reply": "2024-11-30T17:40:54.075392Z",
     "shell.execute_reply.started": "2024-11-30T17:40:54.066207Z"
    },
    "trusted": true
   },
   "outputs": [
    {
     "name": "stdout",
     "output_type": "stream",
     "text": [
      "          Survived    Pclass       Sex       Age     SibSp     Parch  \\\n",
      "Survived  1.000000 -0.108615 -1.000000 -0.000011  0.099943  0.159120   \n",
      "Pclass   -0.108615  1.000000  0.108615 -0.440782  0.001087  0.018721   \n",
      "Sex      -1.000000  0.108615  1.000000  0.000011 -0.099943 -0.159120   \n",
      "Age      -0.000011 -0.440782  0.000011  1.000000 -0.079535 -0.045073   \n",
      "SibSp     0.099943  0.001087 -0.099943 -0.079535  1.000000  0.306895   \n",
      "Parch     0.159120  0.018721 -0.159120 -0.045073  0.306895  1.000000   \n",
      "Fare      0.191514 -0.577147 -0.191514  0.329071  0.171539  0.230046   \n",
      "Embarked -0.076281  0.227983  0.076281 -0.157996  0.052708  0.054577   \n",
      "\n",
      "              Fare  Embarked  \n",
      "Survived  0.191514 -0.076281  \n",
      "Pclass   -0.577147  0.227983  \n",
      "Sex      -0.191514  0.076281  \n",
      "Age       0.329071 -0.157996  \n",
      "SibSp     0.171539  0.052708  \n",
      "Parch     0.230046  0.054577  \n",
      "Fare      1.000000 -0.257183  \n",
      "Embarked -0.257183  1.000000  \n"
     ]
    }
   ],
   "source": [
    "df[\"Sex\"]=le.fit_transform(df[\"Sex\"])\n",
    "df[\"Embarked\"]=le.fit_transform(df[\"Embarked\"])\n",
    "print(df.corr())"
   ]
  },
  {
   "cell_type": "code",
   "execution_count": 25,
   "metadata": {
    "execution": {
     "iopub.execute_input": "2024-11-30T17:42:00.849533Z",
     "iopub.status.busy": "2024-11-30T17:42:00.848896Z",
     "iopub.status.idle": "2024-11-30T17:42:00.858664Z",
     "shell.execute_reply": "2024-11-30T17:42:00.857744Z",
     "shell.execute_reply.started": "2024-11-30T17:42:00.849500Z"
    },
    "trusted": true
   },
   "outputs": [
    {
     "name": "stdout",
     "output_type": "stream",
     "text": [
      "     Survived  Pclass  Sex       Age  SibSp  Parch      Fare  Embarked\n",
      "0           0       3    1  34.50000      0      0    7.8292         1\n",
      "1           1       3    0  47.00000      1      0    7.0000         2\n",
      "2           0       2    1  62.00000      0      0    9.6875         1\n",
      "3           0       3    1  27.00000      0      0    8.6625         2\n",
      "4           1       3    0  22.00000      1      1   12.2875         2\n",
      "..        ...     ...  ...       ...    ...    ...       ...       ...\n",
      "413         0       3    1  30.27259      0      0    8.0500         2\n",
      "414         1       1    0  39.00000      0      0  108.9000         0\n",
      "415         0       3    1  38.50000      0      0    7.2500         2\n",
      "416         0       3    1  30.27259      0      0    8.0500         2\n",
      "417         0       3    1  30.27259      1      1   22.3583         0\n",
      "\n",
      "[418 rows x 8 columns]\n"
     ]
    }
   ],
   "source": [
    "df[\"Age\"]=df[\"Age\"].replace(np.nan,0)\n",
    "df[\"Embarked\"]=df[\"Embarked\"].replace(np.nan,0)\n",
    "print(df)"
   ]
  },
  {
   "cell_type": "code",
   "execution_count": 27,
   "metadata": {
    "execution": {
     "iopub.execute_input": "2024-11-30T17:43:22.652789Z",
     "iopub.status.busy": "2024-11-30T17:43:22.652107Z",
     "iopub.status.idle": "2024-11-30T17:43:22.661613Z",
     "shell.execute_reply": "2024-11-30T17:43:22.660637Z",
     "shell.execute_reply.started": "2024-11-30T17:43:22.652756Z"
    },
    "trusted": true
   },
   "outputs": [
    {
     "name": "stdout",
     "output_type": "stream",
     "text": [
      "XXXX      Pclass  Sex       Age  SibSp  Parch      Fare  Embarked\n",
      "0         3    1  34.50000      0      0    7.8292         1\n",
      "1         3    0  47.00000      1      0    7.0000         2\n",
      "2         2    1  62.00000      0      0    9.6875         1\n",
      "3         3    1  27.00000      0      0    8.6625         2\n",
      "4         3    0  22.00000      1      1   12.2875         2\n",
      "..      ...  ...       ...    ...    ...       ...       ...\n",
      "413       3    1  30.27259      0      0    8.0500         2\n",
      "414       1    0  39.00000      0      0  108.9000         0\n",
      "415       3    1  38.50000      0      0    7.2500         2\n",
      "416       3    1  30.27259      0      0    8.0500         2\n",
      "417       3    1  30.27259      1      1   22.3583         0\n",
      "\n",
      "[418 rows x 7 columns]\n",
      "YYYY 0      0\n",
      "1      1\n",
      "2      0\n",
      "3      0\n",
      "4      1\n",
      "      ..\n",
      "413    0\n",
      "414    1\n",
      "415    0\n",
      "416    0\n",
      "417    0\n",
      "Name: Survived, Length: 418, dtype: int64\n"
     ]
    }
   ],
   "source": [
    "x=df.drop([\"Survived\"],axis=1)\n",
    "y=df[\"Survived\"]\n",
    "print(\"XXXX\",x)\n",
    "print(\"YYYY\",y)"
   ]
  },
  {
   "cell_type": "code",
   "execution_count": 28,
   "metadata": {
    "execution": {
     "iopub.execute_input": "2024-11-30T17:46:15.288468Z",
     "iopub.status.busy": "2024-11-30T17:46:15.287790Z",
     "iopub.status.idle": "2024-11-30T17:46:15.380667Z",
     "shell.execute_reply": "2024-11-30T17:46:15.379827Z",
     "shell.execute_reply.started": "2024-11-30T17:46:15.288437Z"
    },
    "trusted": true
   },
   "outputs": [
    {
     "name": "stdout",
     "output_type": "stream",
     "text": [
      "DF (418, 8)\n",
      "x_train (334, 7)\n",
      "x_test (84, 7)\n",
      "y_train (84,)\n",
      "y_test (84,)\n"
     ]
    }
   ],
   "source": [
    "#splitting dataset\n",
    "from sklearn.model_selection import train_test_split\n",
    "x_train,x_test,y_train,y_test=train_test_split(x,y,test_size=0.2,random_state=12)\n",
    "\n",
    "print(\"DF\",df.shape)\n",
    "print(\"x_train\",x_train.shape)\n",
    "print(\"x_test\",x_test.shape)\n",
    "print(\"y_train\",y_test.shape)\n",
    "print(\"y_test\",y_test.shape)"
   ]
  },
  {
   "cell_type": "code",
   "execution_count": 42,
   "metadata": {
    "execution": {
     "iopub.execute_input": "2024-11-30T17:50:59.155527Z",
     "iopub.status.busy": "2024-11-30T17:50:59.154828Z",
     "iopub.status.idle": "2024-11-30T17:50:59.163220Z",
     "shell.execute_reply": "2024-11-30T17:50:59.162367Z",
     "shell.execute_reply.started": "2024-11-30T17:50:59.155493Z"
    },
    "trusted": true
   },
   "outputs": [
    {
     "name": "stdout",
     "output_type": "stream",
     "text": [
      "Pclass      0\n",
      "Sex         0\n",
      "Age         0\n",
      "SibSp       0\n",
      "Parch       0\n",
      "Fare        0\n",
      "Embarked    0\n",
      "dtype: int64\n",
      "0\n"
     ]
    }
   ],
   "source": [
    "#Handling Missing Values\n",
    "x_train = x_train.dropna()\n",
    "y_train = y_train.loc[x_train.index]\n",
    "print(x_train.isnull().sum())  \n",
    "print(y_train.isnull().sum())  "
   ]
  },
  {
   "cell_type": "code",
   "execution_count": 43,
   "metadata": {
    "execution": {
     "iopub.execute_input": "2024-11-30T17:51:01.677093Z",
     "iopub.status.busy": "2024-11-30T17:51:01.676758Z",
     "iopub.status.idle": "2024-11-30T17:51:01.686793Z",
     "shell.execute_reply": "2024-11-30T17:51:01.685948Z",
     "shell.execute_reply.started": "2024-11-30T17:51:01.677065Z"
    },
    "trusted": true
   },
   "outputs": [
    {
     "data": {
      "text/html": [
       "<style>#sk-container-id-2 {color: black;background-color: white;}#sk-container-id-2 pre{padding: 0;}#sk-container-id-2 div.sk-toggleable {background-color: white;}#sk-container-id-2 label.sk-toggleable__label {cursor: pointer;display: block;width: 100%;margin-bottom: 0;padding: 0.3em;box-sizing: border-box;text-align: center;}#sk-container-id-2 label.sk-toggleable__label-arrow:before {content: \"▸\";float: left;margin-right: 0.25em;color: #696969;}#sk-container-id-2 label.sk-toggleable__label-arrow:hover:before {color: black;}#sk-container-id-2 div.sk-estimator:hover label.sk-toggleable__label-arrow:before {color: black;}#sk-container-id-2 div.sk-toggleable__content {max-height: 0;max-width: 0;overflow: hidden;text-align: left;background-color: #f0f8ff;}#sk-container-id-2 div.sk-toggleable__content pre {margin: 0.2em;color: black;border-radius: 0.25em;background-color: #f0f8ff;}#sk-container-id-2 input.sk-toggleable__control:checked~div.sk-toggleable__content {max-height: 200px;max-width: 100%;overflow: auto;}#sk-container-id-2 input.sk-toggleable__control:checked~label.sk-toggleable__label-arrow:before {content: \"▾\";}#sk-container-id-2 div.sk-estimator input.sk-toggleable__control:checked~label.sk-toggleable__label {background-color: #d4ebff;}#sk-container-id-2 div.sk-label input.sk-toggleable__control:checked~label.sk-toggleable__label {background-color: #d4ebff;}#sk-container-id-2 input.sk-hidden--visually {border: 0;clip: rect(1px 1px 1px 1px);clip: rect(1px, 1px, 1px, 1px);height: 1px;margin: -1px;overflow: hidden;padding: 0;position: absolute;width: 1px;}#sk-container-id-2 div.sk-estimator {font-family: monospace;background-color: #f0f8ff;border: 1px dotted black;border-radius: 0.25em;box-sizing: border-box;margin-bottom: 0.5em;}#sk-container-id-2 div.sk-estimator:hover {background-color: #d4ebff;}#sk-container-id-2 div.sk-parallel-item::after {content: \"\";width: 100%;border-bottom: 1px solid gray;flex-grow: 1;}#sk-container-id-2 div.sk-label:hover label.sk-toggleable__label {background-color: #d4ebff;}#sk-container-id-2 div.sk-serial::before {content: \"\";position: absolute;border-left: 1px solid gray;box-sizing: border-box;top: 0;bottom: 0;left: 50%;z-index: 0;}#sk-container-id-2 div.sk-serial {display: flex;flex-direction: column;align-items: center;background-color: white;padding-right: 0.2em;padding-left: 0.2em;position: relative;}#sk-container-id-2 div.sk-item {position: relative;z-index: 1;}#sk-container-id-2 div.sk-parallel {display: flex;align-items: stretch;justify-content: center;background-color: white;position: relative;}#sk-container-id-2 div.sk-item::before, #sk-container-id-2 div.sk-parallel-item::before {content: \"\";position: absolute;border-left: 1px solid gray;box-sizing: border-box;top: 0;bottom: 0;left: 50%;z-index: -1;}#sk-container-id-2 div.sk-parallel-item {display: flex;flex-direction: column;z-index: 1;position: relative;background-color: white;}#sk-container-id-2 div.sk-parallel-item:first-child::after {align-self: flex-end;width: 50%;}#sk-container-id-2 div.sk-parallel-item:last-child::after {align-self: flex-start;width: 50%;}#sk-container-id-2 div.sk-parallel-item:only-child::after {width: 0;}#sk-container-id-2 div.sk-dashed-wrapped {border: 1px dashed gray;margin: 0 0.4em 0.5em 0.4em;box-sizing: border-box;padding-bottom: 0.4em;background-color: white;}#sk-container-id-2 div.sk-label label {font-family: monospace;font-weight: bold;display: inline-block;line-height: 1.2em;}#sk-container-id-2 div.sk-label-container {text-align: center;}#sk-container-id-2 div.sk-container {/* jupyter's `normalize.less` sets `[hidden] { display: none; }` but bootstrap.min.css set `[hidden] { display: none !important; }` so we also need the `!important` here to be able to override the default hidden behavior on the sphinx rendered scikit-learn.org. See: https://github.com/scikit-learn/scikit-learn/issues/21755 */display: inline-block !important;position: relative;}#sk-container-id-2 div.sk-text-repr-fallback {display: none;}</style><div id=\"sk-container-id-2\" class=\"sk-top-container\"><div class=\"sk-text-repr-fallback\"><pre>GaussianNB()</pre><b>In a Jupyter environment, please rerun this cell to show the HTML representation or trust the notebook. <br />On GitHub, the HTML representation is unable to render, please try loading this page with nbviewer.org.</b></div><div class=\"sk-container\" hidden><div class=\"sk-item\"><div class=\"sk-estimator sk-toggleable\"><input class=\"sk-toggleable__control sk-hidden--visually\" id=\"sk-estimator-id-2\" type=\"checkbox\" checked><label for=\"sk-estimator-id-2\" class=\"sk-toggleable__label sk-toggleable__label-arrow\">GaussianNB</label><div class=\"sk-toggleable__content\"><pre>GaussianNB()</pre></div></div></div></div></div>"
      ],
      "text/plain": [
       "GaussianNB()"
      ]
     },
     "execution_count": 43,
     "metadata": {},
     "output_type": "execute_result"
    }
   ],
   "source": [
    "#model naive bayes\n",
    "from sklearn.naive_bayes import GaussianNB\n",
    "NB=GaussianNB()\n",
    "NB.fit(x_train,y_train)"
   ]
  },
  {
   "cell_type": "code",
   "execution_count": 44,
   "metadata": {
    "execution": {
     "iopub.execute_input": "2024-11-30T17:52:29.008103Z",
     "iopub.status.busy": "2024-11-30T17:52:29.007301Z",
     "iopub.status.idle": "2024-11-30T17:52:29.015768Z",
     "shell.execute_reply": "2024-11-30T17:52:29.015046Z",
     "shell.execute_reply.started": "2024-11-30T17:52:29.008072Z"
    },
    "trusted": true
   },
   "outputs": [
    {
     "name": "stdout",
     "output_type": "stream",
     "text": [
      "y_pred [0 1 0 1 1 1 0 1 0 1 0 0 1 0 0 0 1 0 0 1 1 0 0 0 1 1 1 0 0 0 1 0 1 0 1 0 0\n",
      " 1 0 1 0 0 0 0 0 1 1 1 1 1 1 1 0 1 0 1 0 0 0 0 1 1 0 0 0 0 0 1 1 0 1 1 0 0\n",
      " 0 0 0 1 0 0 1 1 0 0]\n",
      "y_test 289    0\n",
      "258    1\n",
      "392    0\n",
      "6      1\n",
      "296    1\n",
      "      ..\n",
      "137    0\n",
      "350    1\n",
      "283    1\n",
      "325    0\n",
      "357    0\n",
      "Name: Survived, Length: 84, dtype: int64\n"
     ]
    }
   ],
   "source": [
    "y_pred=NB.predict(x_test)\n",
    "print(\"y_pred\",y_pred)\n",
    "print('y_test',y_test)"
   ]
  },
  {
   "cell_type": "code",
   "execution_count": 56,
   "metadata": {
    "execution": {
     "iopub.execute_input": "2024-11-30T18:03:31.183135Z",
     "iopub.status.busy": "2024-11-30T18:03:31.182796Z",
     "iopub.status.idle": "2024-11-30T18:03:31.189918Z",
     "shell.execute_reply": "2024-11-30T18:03:31.188806Z",
     "shell.execute_reply.started": "2024-11-30T18:03:31.183104Z"
    },
    "trusted": true
   },
   "outputs": [
    {
     "name": "stdout",
     "output_type": "stream",
     "text": [
      "ACCURACY 100.0 %\n"
     ]
    }
   ],
   "source": [
    "from sklearn.metrics import accuracy_score\n",
    "print(\"ACCURACY\",accuracy_score(y_test,y_pred)*100,\"%\")"
   ]
  },
  {
   "cell_type": "code",
   "execution_count": 59,
   "metadata": {
    "execution": {
     "iopub.execute_input": "2024-11-30T18:11:03.946807Z",
     "iopub.status.busy": "2024-11-30T18:11:03.945901Z",
     "iopub.status.idle": "2024-11-30T18:11:03.952276Z",
     "shell.execute_reply": "2024-11-30T18:11:03.951345Z",
     "shell.execute_reply.started": "2024-11-30T18:11:03.946771Z"
    },
    "trusted": true
   },
   "outputs": [
    {
     "name": "stdout",
     "output_type": "stream",
     "text": [
      "Dead💀\n"
     ]
    }
   ],
   "source": [
    "#testing\n",
    "testPrediction=NB.predict([[0,3,1,22.0,1,6,2]])\n",
    "if testPrediction==1:\n",
    "    print(\"Survived\")\n",
    "else:\n",
    "    print(\"Dead💀\")"
   ]
  }
 ],
 "metadata": {
  "kaggle": {
   "accelerator": "nvidiaTeslaT4",
   "dataSources": [
    {
     "datasetId": 826163,
     "sourceId": 2879186,
     "sourceType": "datasetVersion"
    }
   ],
   "dockerImageVersionId": 30786,
   "isGpuEnabled": true,
   "isInternetEnabled": true,
   "language": "python",
   "sourceType": "notebook"
  },
  "kernelspec": {
   "display_name": "Python 3",
   "language": "python",
   "name": "python3"
  },
  "language_info": {
   "codemirror_mode": {
    "name": "ipython",
    "version": 3
   },
   "file_extension": ".py",
   "mimetype": "text/x-python",
   "name": "python",
   "nbconvert_exporter": "python",
   "pygments_lexer": "ipython3",
   "version": "3.10.14"
  }
 },
 "nbformat": 4,
 "nbformat_minor": 4
}
